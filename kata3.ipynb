{
 "cells": [
  {
   "cell_type": "markdown",
   "metadata": {},
   "source": [
    "Problema 1\n",
    "Para este ejercicio, escribirás una lógica condicional que imprima una advertencia si un asteroide se acerca a la Tierra demasiado rápido. La velocidad del asteroide varía dependiendo de lo cerca que esté del sol, y cualquier velocidad superior a 25 kilómetros por segundo (km/s) merece una advertencia.\n",
    "\n",
    "Un asteroide se acerca, y viaja a una velocidad de 49 km/s."
   ]
  },
  {
   "cell_type": "code",
   "execution_count": 2,
   "metadata": {},
   "outputs": [
    {
     "name": "stdout",
     "output_type": "stream",
     "text": [
      "¡Un asteroide se acerca, cuidado!\n"
     ]
    }
   ],
   "source": [
    "asteroide = 49\n",
    "\n",
    "if asteroide > 25:\n",
    "    print(\"¡Un asteroide se acerca, cuidado!\")\n",
    "else:\n",
    "    print(\"Buen día, ningun asteroide se acerca\")\n"
   ]
  },
  {
   "cell_type": "markdown",
   "metadata": {},
   "source": [
    "Problema 2 \n",
    "Si un asteroide entra en la atmósfera de la Tierra a una velocidad mayor o igual a 20 km/s, a veces produce un rayo de luz que se puede ver desde la Tierra. Escribe la lógica condicional que usa declaraciones if, else, y elif para alertar a las personas de todo el mundo que deben buscar un asteroide en el cielo. ¡Hay uno que se dirige a la tierra ahora a una velocidad de 19 km/s!"
   ]
  },
  {
   "cell_type": "code",
   "execution_count": 5,
   "metadata": {},
   "outputs": [
    {
     "name": "stdout",
     "output_type": "stream",
     "text": [
      "No puedes el asteroide, sigue con tu día\n"
     ]
    }
   ],
   "source": [
    "asteroide = 19\n",
    "\n",
    "if asteroide > 20:\n",
    "    print(\"Puedes ver un rayo de luz que desprende el asteroide\")\n",
    "elif asteroide == 20:\n",
    "    print(\"Puedes ver un rayo de luz que desprende el asteroide\")\n",
    "else:\n",
    "    print(\"No puedes ver a el asteroide, sigue con tu día\")"
   ]
  },
  {
   "cell_type": "markdown",
   "metadata": {},
   "source": [
    "Problema 3\n",
    "Los asteroides de menos de 25 metros en su dimensión más grande probablemente se quemarán a medida que entren en la atmósfera de la Tierra.\n",
    "\n",
    "Si una pieza de un asteroide que es más grande que 25 metros pero más pequeña que 1000 metros golpeara la Tierra, causaría mucho daño.\n",
    "También discutimos en el ejercicio anterior que:\n",
    "\n",
    "La velocidad del asteroide varía en función de lo cerca que esté del sol, y cualquier velocidad superior a 25 kilómetros por segundo (km/s) merece una advertencia.\n",
    "Si un asteroide entra en la atmósfera de la Tierra a una velocidad mayor o igual a 20 km/s, a veces produce un rayo de luz que se puede ver desde la Tierra.\n",
    "Usando toda esta información, escribe un programa que emita la advertencia o información correcta a la gente de la Tierra, según la velocidad y el tamaño de un asteroide."
   ]
  },
  {
   "cell_type": "code",
   "execution_count": 20,
   "metadata": {},
   "outputs": [
    {
     "name": "stdout",
     "output_type": "stream",
     "text": [
      "No puedes ver el asteroide, sigue con tu día\n"
     ]
    }
   ],
   "source": [
    "dimension_asteroide = int(input(\"¿cual es la dimension del asteroide?\"))\n",
    "v_asteroide = int(input(\"Cuál es la velocidad del asteroide?\"))\n",
    "\n",
    "if v_asteroide > 25 and dimension_asteroide in range(25,101):\n",
    "    print('¡Cuidado, un asteroide impactará al planeta!')\n",
    "elif v_asteroide >= 20:\n",
    "    print(\"Puedes ver un rayo de luz que desprende el asteroide\")\n",
    "elif dimension_asteroide < 25:\n",
    "    print('No puedes ver el asteroide, sigue con tu día')\n",
    "else:\n",
    "    print('No puedes ver el asteroide, sigue con tu día')"
   ]
  }
 ],
 "metadata": {
  "interpreter": {
   "hash": "d30decb9dfde37d8f850b44843ab5ccdd54fe4a23596b390493d093d2ea85287"
  },
  "kernelspec": {
   "display_name": "Python 3.10.2 64-bit",
   "language": "python",
   "name": "python3"
  },
  "language_info": {
   "codemirror_mode": {
    "name": "ipython",
    "version": 3
   },
   "file_extension": ".py",
   "mimetype": "text/x-python",
   "name": "python",
   "nbconvert_exporter": "python",
   "pygments_lexer": "ipython3",
   "version": "3.10.2"
  },
  "orig_nbformat": 4
 },
 "nbformat": 4,
 "nbformat_minor": 2
}
