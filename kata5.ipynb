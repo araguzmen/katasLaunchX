{
 "cells": [
  {
   "cell_type": "markdown",
   "metadata": {},
   "source": [
    "Ejercicio 1"
   ]
  },
  {
   "cell_type": "code",
   "execution_count": 15,
   "metadata": {},
   "outputs": [
    {
     "name": "stdout",
     "output_type": "stream",
     "text": [
      "La distancia en km es: 628949330\n",
      "La distancia en millas es: 390577533.93\n"
     ]
    }
   ],
   "source": [
    "planeta_uno = 149597870\n",
    "planeta_dos = 778547200\n",
    "\n",
    "distancia_km = planeta_dos - planeta_uno\n",
    "print('La distancia en km es:', distancia_km)\n",
    "distancia_mi = distancia_km*0.621\n",
    "print('La distancia en millas es:',distancia_mi)"
   ]
  },
  {
   "cell_type": "markdown",
   "metadata": {},
   "source": [
    "Ejercicio 2"
   ]
  },
  {
   "cell_type": "code",
   "execution_count": null,
   "metadata": {},
   "outputs": [],
   "source": [
    "planeta1 = float(input('Introduzca la distancia del primer planeta en km'))\n",
    "planeta2 = float(input('Introduzca el valor para el segundo planeta en km'))\n",
    "if planeta1 > planeta2:\n",
    "     distancia = planeta1-planeta2\n",
    "else:\n",
    "        distancia = planeta2-planeta1        \n",
    "print('La distancia entre planetas en km es:', distancia)\n",
    "print('La distancia entre planetas en millas es:', abs(distancia*0.621))\n",
    "\n"
   ]
  }
 ],
 "metadata": {
  "interpreter": {
   "hash": "d30decb9dfde37d8f850b44843ab5ccdd54fe4a23596b390493d093d2ea85287"
  },
  "kernelspec": {
   "display_name": "Python 3.10.2 64-bit",
   "language": "python",
   "name": "python3"
  },
  "language_info": {
   "codemirror_mode": {
    "name": "ipython",
    "version": 3
   },
   "file_extension": ".py",
   "mimetype": "text/x-python",
   "name": "python",
   "nbconvert_exporter": "python",
   "pygments_lexer": "ipython3",
   "version": "3.10.2"
  },
  "orig_nbformat": 4
 },
 "nbformat": 4,
 "nbformat_minor": 2
}
