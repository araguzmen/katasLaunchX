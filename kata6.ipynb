{
 "cells": [
  {
   "cell_type": "markdown",
   "metadata": {},
   "source": [
    "Ejercicio 1"
   ]
  },
  {
   "cell_type": "code",
   "execution_count": 5,
   "metadata": {},
   "outputs": [
    {
     "name": "stdout",
     "output_type": "stream",
     "text": [
      "['Mercurio', 'Venus', 'Tierra', 'Marte', 'Jupiter', 'Saturno', 'Urano', 'Neptuno']\n",
      "El número de planetas es: 9 El último planeta es: Plutón\n"
     ]
    }
   ],
   "source": [
    "planets = ['Mercurio', 'Venus', 'Tierra', 'Marte', 'Jupiter', 'Saturno', 'Urano', 'Neptuno']\n",
    "print(planets)\n",
    "\n",
    "#añadimos a Plutón\n",
    "\n",
    "planets.append('Plutón')\n",
    "numero_planetas = len(planets)\n",
    "print('El número de planetas es:',numero_planetas,'El último planeta es:', planets[8])\n"
   ]
  },
  {
   "cell_type": "code",
   "execution_count": 9,
   "metadata": {},
   "outputs": [
    {
     "name": "stdout",
     "output_type": "stream",
     "text": [
      "Los planetas más cercanos al sol que Tierra son:\n",
      "['Mercurio', 'Venus']\n",
      "Los planetas más alejados que Tierra son:\n",
      "['Marte', 'Jupiter', 'Saturno', 'Urano', 'Neptuno', 'Plutón']\n"
     ]
    }
   ],
   "source": [
    "#Ejercicio 2\n",
    "user_planet =  input('Ingrese el nombre del planeta (inicie con máyuscula,por favor)')\n",
    "planet_index = planets.index(user_planet)\n",
    "print('Los planetas más cercanos al sol que', user_planet,'son:')\n",
    "print(planets[0:planet_index])\n",
    "print('Los planetas más alejados que',user_planet,'son:')\n",
    "print(planets[planet_index+1:9])"
   ]
  }
 ],
 "metadata": {
  "interpreter": {
   "hash": "d30decb9dfde37d8f850b44843ab5ccdd54fe4a23596b390493d093d2ea85287"
  },
  "kernelspec": {
   "display_name": "Python 3.10.2 64-bit",
   "language": "python",
   "name": "python3"
  },
  "language_info": {
   "codemirror_mode": {
    "name": "ipython",
    "version": 3
   },
   "file_extension": ".py",
   "mimetype": "text/x-python",
   "name": "python",
   "nbconvert_exporter": "python",
   "pygments_lexer": "ipython3",
   "version": "3.10.2"
  },
  "orig_nbformat": 4
 },
 "nbformat": 4,
 "nbformat_minor": 2
}
